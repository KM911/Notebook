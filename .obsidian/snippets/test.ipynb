{
 "cells": [
  {
   "cell_type": "code",
   "execution_count": 9,
   "metadata": {},
   "outputs": [],
   "source": [
    "# 尝试使用python来自动生成这些内容不好吗\n",
    "Target_list = []\n",
    "Description_list = []\n",
    "Unmatched_list = []\n",
    "# Answer_list = [] 这个其实就不需要了，之前可以将一个dict转为就是 json的格式 ， 我们其实也可以学习一下不是吗\n",
    "\n",
    "\n"
   ]
  },
  {
   "cell_type": "code",
   "execution_count": 10,
   "metadata": {},
   "outputs": [],
   "source": [
    "Target_list = []"
   ]
  },
  {
   "cell_type": "code",
   "execution_count": 11,
   "metadata": {},
   "outputs": [
    {
     "ename": "SyntaxError",
     "evalue": "invalid syntax (2604187896.py, line 1)",
     "output_type": "error",
     "traceback": [
      "\u001b[1;36m  Cell \u001b[1;32mIn[11], line 1\u001b[1;36m\u001b[0m\n\u001b[1;33m    Target:\"匹配qq邮箱\",\u001b[0m\n\u001b[1;37m                   ^\u001b[0m\n\u001b[1;31mSyntaxError\u001b[0m\u001b[1;31m:\u001b[0m invalid syntax\n"
     ]
    }
   ],
   "source": [
    "    Target:\"匹配qq邮箱\",\n",
    "    Describe:\"使用\\\\d用于匹配数字\",\n",
    "    UnmatchedText:\"ad\",\n",
    "    Answer:[\"a\"]"
   ]
  },
  {
   "cell_type": "code",
   "execution_count": 14,
   "metadata": {},
   "outputs": [
    {
     "name": "stdout",
     "output_type": "stream",
     "text": [
      "class: \n",
      "style: (0, 4)\n",
      "tag: div\n"
     ]
    }
   ],
   "source": [
    "import re\n",
    "\n",
    "html = '<div></div>'\n",
    "\n",
    "class_pattern = r'class=\"([^\"]*)\"'\n",
    "style_pattern = r'style=\"([^\"]*)\"'\n",
    "tag_pattern = r'<(\\w+)'\n",
    "\n",
    "# 预先编译正则表达式 \n",
    "# class_re = re.compile(class_pattern)\n",
    "# style_re = re.compile(style_pattern)\n",
    "# tag_re = re.compile(tag_pattern)\n",
    "\n",
    "class_match = re.search(class_pattern, html)\n",
    "style_match = re.search(style_pattern, html)\n",
    "tag_match = re.search(tag_pattern, html)\n",
    "\n",
    "class_result = class_match.group(1) if class_match else \"\"\n",
    "\n",
    "# 获取style的index\n",
    "# 还要考虑如果没有style的情况\n",
    "if style_match is  None:\n",
    "    style_index = tag_match.span()\n",
    "else :\n",
    "    style_index = style_match.span()\n",
    "# style_index = style_match.span() if style_match else class_match.span() \n",
    "\n",
    "tag_result = tag_match.group(1) if tag_match else \"\"\n",
    "\n",
    "print(\"class:\", class_result)\n",
    "print(\"style:\", style_index)\n",
    "print(\"tag:\", tag_result)\n",
    "\n",
    "# 差不多 改造一下就好了, 真的是累死我了 , 其实还是挺复杂的,不是吗"
   ]
  },
  {
   "cell_type": "code",
   "execution_count": null,
   "metadata": {},
   "outputs": [],
   "source": []
  }
 ],
 "metadata": {
  "kernelspec": {
   "display_name": "Python 3",
   "language": "python",
   "name": "python3"
  },
  "language_info": {
   "codemirror_mode": {
    "name": "ipython",
    "version": 3
   },
   "file_extension": ".py",
   "mimetype": "text/x-python",
   "name": "python",
   "nbconvert_exporter": "python",
   "pygments_lexer": "ipython3",
   "version": "3.10.6"
  },
  "orig_nbformat": 4
 },
 "nbformat": 4,
 "nbformat_minor": 2
}
