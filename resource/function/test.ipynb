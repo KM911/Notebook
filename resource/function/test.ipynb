{
 "cells": [
  {
   "cell_type": "code",
   "execution_count": 290,
   "metadata": {},
   "outputs": [
    {
     "name": "stdout",
     "output_type": "stream",
     "text": [
      "\\ufffd\\ufffd\\ufffd\\u0132\\ufffd\\ufffd\\ufffd\n"
     ]
    }
   ],
   "source": [
    "st = \"���Ĳ���\"\n",
    "print(str(st.encode(\"unicode-escape\").decode(\"utf-8\")))"
   ]
  },
  {
   "cell_type": "code",
   "execution_count": 297,
   "metadata": {},
   "outputs": [],
   "source": [
    "import lib.table as table\n",
    "import lib.std as std\n",
    "import lib.files as files\n",
    "import os\n",
    "import sys\n",
    "\n",
    "\n",
    "def Iterator(contents: list):\n",
    "    index = 0\n",
    "\n",
    "    def iteration(type: str = \"value\"):\n",
    "        nonlocal index\n",
    "        if type == \"index\":\n",
    "            return index\n",
    "        if type == \"prev\":\n",
    "            index -= 1\n",
    "        elif type == \"next\":\n",
    "            index += 1\n",
    "        return contents[index]\n",
    "    return iteration\n",
    "\n",
    "\n",
    "contests = files.ReadFileContent(\n",
    "    r\"D:\\GITHUB\\KM911\\static-html\\blogs\\_posts\\CODE\\HTML\\beautyfil\\border_radius.md\")\n"
   ]
  },
  {
   "cell_type": "code",
   "execution_count": 298,
   "metadata": {},
   "outputs": [],
   "source": [
    "\n",
    "def get_css_group():\n",
    "    global iter\n",
    "    while True:\n",
    "        lines = iter()\n",
    "        if lines.startswith(\"`````col\"):\n",
    "            start = iter(\"index\")\n",
    "            iter(\"next\")\n",
    "            break\n",
    "        iter(\"next\")\n",
    "    while True:\n",
    "        lines = iter()\n",
    "        if not lines.startswith(\"`````\"):\n",
    "            iter(\"next\")\n",
    "            continue\n",
    "        else:\n",
    "            end = iter(\"index\")\n",
    "            break\n",
    "    return contests[start:end]\n"
   ]
  },
  {
   "cell_type": "code",
   "execution_count": 299,
   "metadata": {},
   "outputs": [],
   "source": [
    "import re\n",
    "\n",
    "text = '<div class=\"test-class other-class\" style=\"color:red;width: 100px;height: 100px; background-color: aqua; border-radius: 25px;\"></div>'\n",
    "\n",
    "\n",
    "def LocateElementStyle() -> str:\n",
    "    class_pattern = r'class=\"([^\"]*)\"'\n",
    "    style_pattern = r'style=\"([^\"]*)\"'\n",
    "    tag_pattern = r'<(\\w+)'\n",
    "\n",
    "    # 预先编译正则表达式\n",
    "    class_re = re.compile(class_pattern)\n",
    "    style_re = re.compile(style_pattern)\n",
    "    tag_re = re.compile(tag_pattern)\n",
    "\n",
    "    def ElementStyle(_String: str) -> str:\n",
    "        tag_result = tag_re.search(_String)\n",
    "        class_result = class_re.search(_String)\n",
    "        style_result = style_re.search(_String)\n",
    "\n",
    "        tag = tag_result.group(1) if tag_result else \"\"\n",
    "        class_ = class_result.group(1) if class_result else \"\"\n",
    "        style = style_result.span() if style_result else \"\"\n",
    "\n",
    "        return {\n",
    "            \"tag\": tag,\n",
    "            \"class\": class_,\n",
    "            \"style\": style\n",
    "        }\n",
    "    return ElementStyle\n",
    "\n",
    "    # class_match = re.search(class_pattern, html)\n",
    "    # style_match = re.search(style_pattern, html)\n",
    "    # tag_match = re.search(tag_pattern, html)\n",
    "\n",
    "    # class_result = class_match.group(1) if class_match else \"\"\n",
    "\n",
    "    # # 获取style的index\n",
    "    # # 还要考虑如果没有style的情况\n",
    "    # if style_match is  None:\n",
    "    #     style_index = tag_match.span()\n",
    "    # else :\n",
    "    #     style_index = style_match.span()\n",
    "    # # style_index = style_match.span() if style_match else class_match.span()\n",
    "\n",
    "    # tag_result = tag_match.group(1) if tag_match else \"\""
   ]
  },
  {
   "cell_type": "code",
   "execution_count": 300,
   "metadata": {},
   "outputs": [],
   "source": [
    "def repeat(exit_flag, func):\n",
    "    while True:\n",
    "        if exit_flag():\n",
    "            return\n",
    "        else:\n",
    "            func()\n",
    "# 就是说tag 是 tag + class 你这里其实需要将\n",
    "\n",
    "\n",
    "# parse css\n",
    "# CSS = []\n",
    "def ResolveCSS(content: list):\n",
    "    CSS = []\n",
    "    global code_block\n",
    "    code_block = Iterator(content)\n",
    "    repeat(lambda: code_block().startswith(\"```css\"), lambda: code_block(\"next\"))\n",
    "    code_block(\"next\")\n",
    "    while True:\n",
    "        tag = code_block().split(\"{\")[0].strip()\n",
    "        style = []\n",
    "        while True:\n",
    "            try:\n",
    "                if code_block(\"next\").startswith(\"}\"):\n",
    "                    code_block(\"next\")\n",
    "                    break\n",
    "                else:\n",
    "                    style.append(code_block().strip())\n",
    "            except:\n",
    "                break\n",
    "        CSS.append({\n",
    "            \"tag\": tag,\n",
    "            \"style\": style\n",
    "        })\n",
    "        # print(\"tag is \", tag)\n",
    "        # print(\"style is \", style)\n",
    "        if code_block().startswith(\"```\\n\"):\n",
    "            break\n",
    "    \n",
    "    return CSS\n",
    "        "
   ]
  },
  {
   "cell_type": "code",
   "execution_count": 301,
   "metadata": {},
   "outputs": [],
   "source": [
    "element_style = LocateElementStyle()\n",
    "\n",
    "\n",
    "def ResolveHtml():\n",
    "    global code_block\n",
    "    html = []\n",
    "    while True:\n",
    "        if code_block().find(\"<\") != -1:\n",
    "            # 匹配tag class 和 style\n",
    "            # style = element_style(code_block())\n",
    "            # print(style)\n",
    "            html.append(element_style(code_block()))\n",
    "        try:\n",
    "            code_block(\"next\")\n",
    "        except:\n",
    "            break\n",
    "    return html"
   ]
  },
  {
   "cell_type": "code",
   "execution_count": 303,
   "metadata": {},
   "outputs": [
    {
     "name": "stdout",
     "output_type": "stream",
     "text": [
      "start\n",
      "[{'tag': 'div', 'class': 'test-class', 'style': (24, 114)}, {'tag': 'div', 'class': '', 'style': (5, 95)}, {'tag': 'div', 'class': '', 'style': (5, 95)}, {'tag': 'div', 'class': '', 'style': (5, 95)}]\n",
      "start\n",
      "list index out of range\n"
     ]
    }
   ],
   "source": [
    "contests = files.ReadFileContent(\n",
    "    r\"D:\\GITHUB\\KM911\\static-html\\blogs\\_posts\\CODE\\HTML\\beautyfil\\border_radius.md\")\n",
    "iter = Iterator(contests)\n",
    "while True :\n",
    "  try:\n",
    "    css_group= get_css_group()\n",
    "    CSS = ResolveCSS(css_group)\n",
    "    # print(CSS)\n",
    "    \n",
    "    html = ResolveHtml()\n",
    "    print(html,end=\"\\n\")\n",
    "  except Exception as e:\n",
    "    print(e)\n",
    "    break"
   ]
  },
  {
   "cell_type": "code",
   "execution_count": 1,
   "metadata": {},
   "outputs": [
    {
     "data": {
      "text/plain": [
       "'no'"
      ]
     },
     "execution_count": 1,
     "metadata": {},
     "output_type": "execute_result"
    }
   ],
   "source": [
    "dic = {}\n",
    "dic.get(\"hello\",\"no\")"
   ]
  },
  {
   "cell_type": "code",
   "execution_count": null,
   "metadata": {},
   "outputs": [],
   "source": []
  }
 ],
 "metadata": {
  "kernelspec": {
   "display_name": "Python 3",
   "language": "python",
   "name": "python3"
  },
  "language_info": {
   "codemirror_mode": {
    "name": "ipython",
    "version": 3
   },
   "file_extension": ".py",
   "mimetype": "text/x-python",
   "name": "python",
   "nbconvert_exporter": "python",
   "pygments_lexer": "ipython3",
   "version": "3.10.6"
  },
  "orig_nbformat": 4
 },
 "nbformat": 4,
 "nbformat_minor": 2
}
